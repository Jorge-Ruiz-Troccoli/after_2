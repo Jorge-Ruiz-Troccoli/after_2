{
 "cells": [
  {
   "cell_type": "markdown",
   "metadata": {
    "id": "RVeBPsS_JwZG"
   },
   "source": [
    "# Manipulacion de faltantes"
   ]
  },
  {
   "cell_type": "code",
   "execution_count": null,
   "metadata": {
    "colab": {
     "base_uri": "https://localhost:8080/",
     "height": 206
    },
    "id": "jUr7xOsTlCNQ",
    "outputId": "933a7c30-7b3b-48c4-ad54-819b9e806ce4"
   },
   "outputs": [],
   "source": [
    "import pandas as pd\n",
    "import numpy as np\n",
    "url='https://raw.githubusercontent.com/jbrownlee/Datasets/master/pima-indians-diabetes.csv'\n",
    "df= pd.read_csv(url,sep=',', header=None)\n",
    "df.head()"
   ]
  },
  {
   "cell_type": "markdown",
   "metadata": {
    "id": "al4fTXwjmH7B"
   },
   "source": [
    "**Variables incorporadas**\n",
    "\n",
    "    0. Numero de veces embarazada (NEMB).\n",
    "    1. Concentracion de plasma de glucosa (GLU)\n",
    "    2. Presion arterial diastolica en mm Hg (PART).\n",
    "    3. Grosor de piel en triceps en mm (GROS).\n",
    "    4. 2-Hour serum insulin en mu U/ml (HUR).\n",
    "    5. BMI (peso kg/(altura en m)^2 en (BMI).\n",
    "    6. Funcion de prediccion de Diabetes (FPRED)\n",
    "    7. Edad (años)  (AGE).\n",
    "    8. Variable de clase (0 or 1)  (CLASS).\n"
   ]
  },
  {
   "cell_type": "code",
   "execution_count": null,
   "metadata": {
    "colab": {
     "base_uri": "https://localhost:8080/",
     "height": 206
    },
    "id": "TzUmWO0gm10R",
    "outputId": "e24523a4-c15b-4196-a9ad-8ed6e129c5d1"
   },
   "outputs": [],
   "source": [
    "# renombramos las columnas\n",
    "df= df.rename(columns={0: \"NEMB\", 1: \"GLU\", 2: \"PART\",3:\"GROS\",4:\"HUR\",5:\"BMI\",6:\"FPRED\",7:\"AGE\",8:\"CLASS\"})\n",
    "df.head()"
   ]
  },
  {
   "cell_type": "code",
   "execution_count": null,
   "metadata": {
    "colab": {
     "base_uri": "https://localhost:8080/"
    },
    "id": "AmQIYE06na4q",
    "outputId": "f7fb69c3-6242-457c-e4f7-2be652bd4611"
   },
   "outputs": [],
   "source": [
    "df.info()"
   ]
  },
  {
   "cell_type": "code",
   "execution_count": null,
   "metadata": {
    "colab": {
     "base_uri": "https://localhost:8080/"
    },
    "id": "RK7qAGHGncbb",
    "outputId": "53a8b89d-8861-4c7f-b106-73fc00f5c92e"
   },
   "outputs": [],
   "source": [
    "df.shape"
   ]
  },
  {
   "cell_type": "code",
   "execution_count": null,
   "metadata": {
    "colab": {
     "base_uri": "https://localhost:8080/",
     "height": 364
    },
    "id": "0bDbEcoUn18g",
    "outputId": "9d38e05c-2c49-4b0e-a3cc-dea684410470"
   },
   "outputs": [],
   "source": [
    "df.describe()"
   ]
  },
  {
   "cell_type": "code",
   "execution_count": null,
   "metadata": {
    "colab": {
     "base_uri": "https://localhost:8080/",
     "height": 300
    },
    "id": "kEWzh2qyBck1",
    "outputId": "65f1ce0b-628f-4c85-f5c7-7112730f6bbc"
   },
   "outputs": [],
   "source": [
    "resumen=df.describe().round(1)\n",
    "resumen"
   ]
  },
  {
   "cell_type": "markdown",
   "metadata": {
    "id": "SGCKJM-in78J"
   },
   "source": [
    "Se observan muchas columnas con valores minimos de 0 lo cual tiene poco sentido practico como por ejemplo:\n",
    "\n",
    "    1. Concentracion de plasma de glucosa (GLU)\n",
    "    2. Presion arterial diastolica en mm Hg (PART).\n",
    "    3. Grosor de piel en triceps en mm (GROS).\n",
    "    4. 2-Hour serum insulin en mu U/ml (HUR).\n",
    "    5. BMI (peso kg/(altura en m)^2 en (BMI).\n"
   ]
  },
  {
   "cell_type": "markdown",
   "metadata": {
    "id": "yH7InMjMoX_c"
   },
   "source": [
    "Calculemos cuantos valores problematicos tenemos"
   ]
  },
  {
   "cell_type": "code",
   "execution_count": null,
   "metadata": {
    "colab": {
     "base_uri": "https://localhost:8080/"
    },
    "id": "4VVkBr1boaGR",
    "outputId": "dcec2b51-e204-4165-d37a-1705733e959b"
   },
   "outputs": [],
   "source": [
    "# contar el numero de valores que son 0 por columnas\n",
    "nun_missing = (df[['GLU','PART','GROS','HUR','BMI']] == 0).sum()\n",
    "print(nun_missing)"
   ]
  },
  {
   "cell_type": "markdown",
   "metadata": {
    "id": "AgzlnIUiozpX"
   },
   "source": [
    "Reemplazar estos valores por NaN"
   ]
  },
  {
   "cell_type": "code",
   "execution_count": null,
   "metadata": {
    "colab": {
     "base_uri": "https://localhost:8080/"
    },
    "id": "mbnydAYkoXWv",
    "outputId": "f89a1b0f-1078-4546-d355-e86084b7cec9"
   },
   "outputs": [],
   "source": [
    "# replace '0' values with 'nan'\n",
    "df[['GLU','PART','GROS','HUR','BMI']] = df[['GLU','PART','GROS','HUR','BMI']].replace(0, np.nan)\n",
    "# count the number of nan values in each column\n",
    "print(df.isnull().sum())"
   ]
  },
  {
   "cell_type": "code",
   "execution_count": null,
   "metadata": {
    "colab": {
     "base_uri": "https://localhost:8080/",
     "height": 206
    },
    "id": "KVjGHyWXJV7z",
    "outputId": "7b70cee7-c5f0-483b-d319-63bc0d030120"
   },
   "outputs": [],
   "source": [
    "df[df.GLU.isna()]"
   ]
  },
  {
   "cell_type": "code",
   "execution_count": null,
   "metadata": {
    "colab": {
     "base_uri": "https://localhost:8080/"
    },
    "id": "H_QC-P18WDaQ",
    "outputId": "ea4ede1d-1b68-49c0-fbd2-ce8786743208"
   },
   "outputs": [],
   "source": [
    "\"\"\"\n",
    "La única diferencia entre isna() e isnull() es su nombre. isnull() es el nombre original de la función que se ha\n",
    "utilizado en versiones anteriores de Pandas, mientras que isna() es un alias que se ha agregado luego\n",
    "para mejorar la legibilidad del código.\n",
    "\"\"\"\n",
    "\n",
    "print(df.isna().sum())"
   ]
  },
  {
   "cell_type": "code",
   "execution_count": null,
   "metadata": {
    "colab": {
     "base_uri": "https://localhost:8080/"
    },
    "id": "2UNM749YKEQW",
    "outputId": "55ed7e76-83d8-4736-ade4-572839149f09"
   },
   "outputs": [],
   "source": [
    "#que pasa si necesitamos reemplazar valores que son fisicamente sospechosos\n",
    "url='https://raw.githubusercontent.com/jbrownlee/Datasets/master/pima-indians-diabetes.csv'\n",
    "df2= pd.read_csv(url,sep=',', header=None)\n",
    "df2= df2.rename(columns={0: \"NEMB\", 1: \"GLU\", 2: \"PART\",3:\"GROS\",4:\"HUR\",5:\"BMI\",6:\"FPRED\",7:\"AGE\",8:\"CLASS\"})\n",
    "nun_missing_2 = (df2['GLU'] < 45).sum()\n",
    "print(nun_missing_2)"
   ]
  },
  {
   "cell_type": "code",
   "execution_count": null,
   "metadata": {
    "colab": {
     "base_uri": "https://localhost:8080/"
    },
    "id": "oPbtCw8VLf05",
    "outputId": "18b2cd8d-b71f-4e75-a38c-a9757d7b221b"
   },
   "outputs": [],
   "source": [
    "# reemplazar los valores menores que 45 por np.nan\n",
    "df2['GLU'] = df2['GLU'].where(df2['GLU'] > 45, np.nan)\n",
    "nun_missing_3 = (df2['GLU'] < 45).sum()\n",
    "print(nun_missing_3)"
   ]
  },
  {
   "cell_type": "code",
   "execution_count": null,
   "metadata": {},
   "outputs": [],
   "source": [
    "# otra forma de hacer lo mismo usando .loc\n",
    "df2.loc[df2['GLU'] < 45, 'GLU'] = np.nan\n",
    "nun_missing_3 = (df2['GLU'] < 45).sum()\n",
    "print(nun_missing_3)"
   ]
  },
  {
   "cell_type": "code",
   "execution_count": null,
   "metadata": {
    "colab": {
     "base_uri": "https://localhost:8080/",
     "height": 423
    },
    "id": "OKdZ_SqGmAvy",
    "outputId": "10ad264f-ab19-4d7a-ad30-f20c47940aa1"
   },
   "outputs": [],
   "source": [
    "df2"
   ]
  },
  {
   "cell_type": "markdown",
   "metadata": {
    "id": "38I2Gl6NpYOp"
   },
   "source": [
    "## Opcion 1 : Remover filas con valores faltantes"
   ]
  },
  {
   "cell_type": "code",
   "execution_count": null,
   "metadata": {
    "colab": {
     "base_uri": "https://localhost:8080/"
    },
    "id": "uMNKVG3YpaSQ",
    "outputId": "4125c683-d215-4d00-a49b-d07ab1b59a08"
   },
   "outputs": [],
   "source": [
    "# remover filas con na\n",
    "df.dropna(inplace=True)\n",
    "# mirar el resultado final\n",
    "df.shape"
   ]
  },
  {
   "cell_type": "code",
   "execution_count": null,
   "metadata": {
    "colab": {
     "base_uri": "https://localhost:8080/",
     "height": 423
    },
    "id": "a-1snctNIWeo",
    "outputId": "c566ddb1-0fba-4319-f533-c49b9b3c422f"
   },
   "outputs": [],
   "source": [
    "df"
   ]
  },
  {
   "cell_type": "code",
   "execution_count": null,
   "metadata": {
    "colab": {
     "base_uri": "https://localhost:8080/",
     "height": 424
    },
    "id": "gzzkyU0oLv-9",
    "outputId": "a1d43330-493f-4d48-a3a9-462ca0e43121"
   },
   "outputs": [],
   "source": [
    "# Reindexar el DataFrame con el índice predeterminado\n",
    "df_reindexado = df.reset_index(drop=True)\n",
    "\n",
    "# Mostrar el DataFrame reindexado\n",
    "df_reindexado"
   ]
  },
  {
   "cell_type": "markdown",
   "metadata": {
    "id": "DGN02smmEhAa"
   },
   "source": [
    "$$\\color{red}{\\text{OJO!! Remover las filas solo porque tengan nulos no es la mejor forma de trabajar}}$$"
   ]
  },
  {
   "cell_type": "markdown",
   "metadata": {
    "id": "DUXGkbGhpruZ"
   },
   "source": [
    "## Opcion 2: Imputar los faltantes\n",
    "\n",
    "Para esto tenemos varias opciones\n",
    "1. Introducir un valor constante para los nulos o una categoria llamada Desconocido en variables categoricas\n",
    "2. Reemplazar por un valor seleccionado al azar de los otros registros\n",
    "3. Usar la media, mediana o moda para rellenar el valor\n",
    "4. Valor estimado usando un modelo de ML"
   ]
  },
  {
   "cell_type": "code",
   "execution_count": null,
   "metadata": {
    "colab": {
     "base_uri": "https://localhost:8080/"
    },
    "id": "qhmXNNdDn7f9",
    "outputId": "b1f32817-dc0c-4200-acc1-52db84111226"
   },
   "outputs": [],
   "source": [
    "url='https://raw.githubusercontent.com/jbrownlee/Datasets/master/pima-indians-diabetes.csv'\n",
    "df= pd.read_csv(url,sep=',', header=None)\n",
    "df= df.rename(columns={0: \"NEMB\", 1: \"GLU\", 2: \"PART\",3:\"GROS\",4:\"HUR\",5:\"BMI\",6:\"FPRED\",7:\"AGE\",8:\"CLASS\"})\n",
    "print(df.shape)\n",
    "df=df.replace(0, np.nan)\n",
    "print(df.shape)"
   ]
  },
  {
   "cell_type": "code",
   "execution_count": null,
   "metadata": {
    "colab": {
     "base_uri": "https://localhost:8080/"
    },
    "id": "JynMQ1kt3PMb",
    "outputId": "2a489cf4-d706-412a-96e1-968a40c092a5"
   },
   "outputs": [],
   "source": [
    "print(df.head())"
   ]
  },
  {
   "cell_type": "code",
   "execution_count": null,
   "metadata": {},
   "outputs": [],
   "source": [
    "# reemplazar con la mediana una columna\n",
    "df.GLU.fillna(\"median\", inplace=True)\n",
    "print(df.shape)\n",
    "print(df.head().round(2))"
   ]
  },
  {
   "cell_type": "code",
   "execution_count": null,
   "metadata": {},
   "outputs": [],
   "source": [
    "df.GROS.fillna(-999, inplace=True)\n",
    "print(df.shape)\n",
    "print(df.head().round(2))"
   ]
  },
  {
   "cell_type": "code",
   "execution_count": null,
   "metadata": {},
   "outputs": [],
   "source": [
    "df.GLU.isnull().sum()"
   ]
  },
  {
   "cell_type": "code",
   "execution_count": null,
   "metadata": {
    "colab": {
     "base_uri": "https://localhost:8080/"
    },
    "id": "E0q_bhGrFFtq",
    "outputId": "170d5c2b-da15-4aef-b252-f590712a3502"
   },
   "outputs": [],
   "source": [
    "# reemplazar con la media\n",
    "df.fillna(df.mean(), inplace=True)\n",
    "print(df.shape)\n",
    "print(df.head().round(2))"
   ]
  },
  {
   "cell_type": "markdown",
   "metadata": {
    "id": "aFCxnJXG3isA"
   },
   "source": [
    "La librería ```scikit-learn``` proporciona la clase de preprocesamiento ```SimpleImputer``` que se puede usar para reemplazar los valores perdidos.\n",
    "\n",
    "Es una clase flexible que le permite especificar el valor a reemplazar (puede ser algo diferente a NaN) y la técnica utilizada para reemplazarlo (como media, mediana o moda). La clase ```SimpleImputer``` opera directamente en la matriz NumPy en lugar del DataFrame.\n",
    "\n",
    "El siguiente ejemplo usa la clase SimpleImputer para reemplazar los valores faltantes con la media de cada columna y luego imprime el número de valores de NaN en la matriz transformada."
   ]
  },
  {
   "cell_type": "code",
   "execution_count": null,
   "metadata": {
    "colab": {
     "base_uri": "https://localhost:8080/"
    },
    "id": "85eqySTD3NkW",
    "outputId": "4e6d2ed3-b7ce-435d-901d-59d2de04b9e9"
   },
   "outputs": [],
   "source": [
    "from numpy import nan\n",
    "from numpy import isnan\n",
    "from pandas import read_csv\n",
    "from sklearn.impute import SimpleImputer\n",
    "url='https://raw.githubusercontent.com/jbrownlee/Datasets/master/pima-indians-diabetes.csv'\n",
    "df= pd.read_csv(url,sep=',', header=None)\n",
    "df=df.replace(0, np.nan)\n",
    "print(df.shape)\n",
    "print(df.head())"
   ]
  },
  {
   "cell_type": "code",
   "execution_count": null,
   "metadata": {
    "colab": {
     "base_uri": "https://localhost:8080/"
    },
    "id": "_kkpod56GlQv",
    "outputId": "bfa54c5a-288f-428f-af69-15e8bb7b4aad"
   },
   "outputs": [],
   "source": [
    "# Crear un numpy array con los valores\n",
    "\n",
    "# definir el imputador\n",
    "imputador = SimpleImputer(missing_values=np.nan, strategy='mean')\n",
    "# transformar el dataset\n",
    "transformados = imputador.fit_transform(df)\n",
    "\n"
   ]
  },
  {
   "cell_type": "code",
   "execution_count": null,
   "metadata": {
    "colab": {
     "base_uri": "https://localhost:8080/"
    },
    "id": "t0GScRO6Pmhc",
    "outputId": "7b65d471-f5aa-4439-bcd0-4d1b4bb32af0"
   },
   "outputs": [],
   "source": [
    "transformados=pd.DataFrame(transformados)\n",
    "#transformados= transformados.rename(columns={0: \"NEMB\", 1: \"GLU\", 2: \"PART\",3:\"GROS\",4:\"HUR\",5:\"BMI\",6:\"FPRED\",7:\"AGE\",8:\"CLASS\"})\n",
    "print(transformados.head().round(2))\n",
    "# Contar el numero de NaN en cada columna\n",
    "print('Missing: ', transformados.isna().sum())"
   ]
  },
  {
   "cell_type": "code",
   "execution_count": null,
   "metadata": {
    "colab": {
     "base_uri": "https://localhost:8080/"
    },
    "id": "ORJolUtmPr9C",
    "outputId": "9eb9d38b-f4f8-4d3f-a439-3202cdefacb5"
   },
   "outputs": [],
   "source": [
    "imputador = SimpleImputer(missing_values=-999, strategy='mean')\n",
    "# transformar el dataset\n",
    "transformados = imputador.fit_transform(transformados)\n",
    "# Contar el numero de NaN en cada columna\n",
    "print('Missing: ', isnan(transformados).sum())"
   ]
  },
  {
   "cell_type": "code",
   "execution_count": null,
   "metadata": {
    "colab": {
     "base_uri": "https://localhost:8080/"
    },
    "id": "dNDl_0wFPUux",
    "outputId": "f81dce56-3841-4b57-eef0-7fb8271695e1"
   },
   "outputs": [],
   "source": [
    "transformados=pd.DataFrame(transformados)\n",
    "#transformados= transformados.rename(columns={0: \"NEMB\", 1: \"GLU\", 2: \"PART\",3:\"GROS\",4:\"HUR\",5:\"BMI\",6:\"FPRED\",7:\"AGE\",8:\"CLASS\"})\n",
    "print(transformados.head().round(2))"
   ]
  },
  {
   "cell_type": "code",
   "execution_count": null,
   "metadata": {
    "colab": {
     "base_uri": "https://localhost:8080/"
    },
    "id": "e7PSDkmpIC64",
    "outputId": "4534ca7d-6871-4988-9cae-12239ad335f4"
   },
   "outputs": [],
   "source": [
    "# Crear un numpy array con los valores\n",
    "valores = df.values\n",
    "# definir el imputador\n",
    "imputador = SimpleImputer(missing_values=np.nan, strategy='median')\n",
    "# trabsformar el dataset\n",
    "transformados = imputador.fit_transform(valores)\n",
    "# Contar el numero de NaN en cada columna\n",
    "print('Missing: %d' % isnan(transformados).sum())\n",
    "transformados=pd.DataFrame(transformados)\n",
    "#transformados= transformados.rename(columns={0: \"NEMB\", 1: \"GLU\", 2: \"PART\",3:\"GROS\",4:\"HUR\",5:\"BMI\",6:\"FPRED\",7:\"AGE\",8:\"CLASS\"})\n",
    "print(transformados.head().round(2))"
   ]
  },
  {
   "cell_type": "code",
   "execution_count": null,
   "metadata": {
    "colab": {
     "base_uri": "https://localhost:8080/"
    },
    "id": "2OV-_wh1IZIO",
    "outputId": "281e2ed5-56e9-4887-d779-139fd86adb63"
   },
   "outputs": [],
   "source": [
    "# Crear un numpy array con los valores\n",
    "valores = df.values\n",
    "# definir el imputador\n",
    "imputador = SimpleImputer(missing_values=np.nan, strategy='most_frequent')\n",
    "# trabsformar el dataset\n",
    "transformados = imputador.fit_transform(valores)\n",
    "# Contar el numero de NaN en cada columna\n",
    "print('Missing: %d' % isnan(transformados).sum())\n",
    "transformados=pd.DataFrame(transformados)\n",
    "#transformados= transformados.rename(columns={0: \"NEMB\", 1: \"GLU\", 2: \"PART\",3:\"GROS\",4:\"HUR\",5:\"BMI\",6:\"FPRED\",7:\"AGE\",8:\"CLASS\"})\n",
    "print(transformados.head().round(2))"
   ]
  },
  {
   "cell_type": "code",
   "execution_count": null,
   "metadata": {
    "colab": {
     "base_uri": "https://localhost:8080/"
    },
    "id": "PiLul2D0nFpH",
    "outputId": "db682af4-374e-4f84-c449-639419704836"
   },
   "outputs": [],
   "source": [
    "# Crear un numpy array con los valores\n",
    "valores = df.values\n",
    "# definir el imputador\n",
    "imputador = SimpleImputer(missing_values=np.nan, strategy='constant',fill_value=10)\n",
    "# trabsformar el dataset\n",
    "transformados = imputador.fit_transform(valores)\n",
    "# Contar el numero de NaN en cada columna\n",
    "print('Missing: %d' % isnan(transformados).sum())\n",
    "transformados=pd.DataFrame(transformados)\n",
    "#transformados= transformados.rename(columns={0: \"NEMB\", 1: \"GLU\", 2: \"PART\",3:\"GROS\",4:\"HUR\",5:\"BMI\",6:\"FPRED\",7:\"AGE\",8:\"CLASS\"})\n",
    "print(transformados.head().round(2))"
   ]
  },
  {
   "cell_type": "code",
   "execution_count": null,
   "metadata": {
    "id": "SYlFfcqH4u91"
   },
   "outputs": [],
   "source": [
    "# Para obtener ayuda sobre la clase\n",
    "SimpleImputer?"
   ]
  },
  {
   "cell_type": "markdown",
   "metadata": {
    "id": "Rc_0LIUi4sEy"
   },
   "source": [
    "El parametro ```strategy``` puede tomar valores de ```['mean','median','most_frequent','constant']``` si se usa ``constant``` se debe proporcionar el argumento ```fill_value````con el valor a reemplazar"
   ]
  }
 ],
 "metadata": {
  "colab": {
   "provenance": []
  },
  "kernelspec": {
   "display_name": "base",
   "language": "python",
   "name": "python3"
  },
  "language_info": {
   "codemirror_mode": {
    "name": "ipython",
    "version": 3
   },
   "file_extension": ".py",
   "mimetype": "text/x-python",
   "name": "python",
   "nbconvert_exporter": "python",
   "pygments_lexer": "ipython3",
   "version": "3.11.7"
  }
 },
 "nbformat": 4,
 "nbformat_minor": 0
}
